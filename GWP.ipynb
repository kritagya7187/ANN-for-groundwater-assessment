{
 "cells": [
  {
   "cell_type": "code",
   "execution_count": 1,
   "id": "0ee06ff4-9a14-4a1e-ac45-7105a2ac30ab",
   "metadata": {},
   "outputs": [
    {
     "name": "stdout",
     "output_type": "stream",
     "text": [
      "Collecting tensorflow\n",
      "  Using cached tensorflow-2.18.0-cp312-cp312-win_amd64.whl.metadata (3.3 kB)\n",
      "Collecting tensorflow-intel==2.18.0 (from tensorflow)\n",
      "  Using cached tensorflow_intel-2.18.0-cp312-cp312-win_amd64.whl.metadata (4.9 kB)\n",
      "Collecting absl-py>=1.0.0 (from tensorflow-intel==2.18.0->tensorflow)\n",
      "  Using cached absl_py-2.1.0-py3-none-any.whl.metadata (2.3 kB)\n",
      "Collecting astunparse>=1.6.0 (from tensorflow-intel==2.18.0->tensorflow)\n",
      "  Using cached astunparse-1.6.3-py2.py3-none-any.whl.metadata (4.4 kB)\n",
      "Collecting flatbuffers>=24.3.25 (from tensorflow-intel==2.18.0->tensorflow)\n",
      "  Using cached flatbuffers-25.1.24-py2.py3-none-any.whl.metadata (875 bytes)\n",
      "Collecting gast!=0.5.0,!=0.5.1,!=0.5.2,>=0.2.1 (from tensorflow-intel==2.18.0->tensorflow)\n",
      "  Using cached gast-0.6.0-py3-none-any.whl.metadata (1.3 kB)\n",
      "Collecting google-pasta>=0.1.1 (from tensorflow-intel==2.18.0->tensorflow)\n",
      "  Using cached google_pasta-0.2.0-py3-none-any.whl.metadata (814 bytes)\n",
      "Collecting libclang>=13.0.0 (from tensorflow-intel==2.18.0->tensorflow)\n",
      "  Using cached libclang-18.1.1-py2.py3-none-win_amd64.whl.metadata (5.3 kB)\n",
      "Collecting opt-einsum>=2.3.2 (from tensorflow-intel==2.18.0->tensorflow)\n",
      "  Using cached opt_einsum-3.4.0-py3-none-any.whl.metadata (6.3 kB)\n",
      "Requirement already satisfied: packaging in c:\\users\\siing\\appdata\\local\\programs\\python\\python312\\lib\\site-packages (from tensorflow-intel==2.18.0->tensorflow) (24.2)\n",
      "Collecting protobuf!=4.21.0,!=4.21.1,!=4.21.2,!=4.21.3,!=4.21.4,!=4.21.5,<6.0.0dev,>=3.20.3 (from tensorflow-intel==2.18.0->tensorflow)\n",
      "  Using cached protobuf-5.29.3-cp310-abi3-win_amd64.whl.metadata (592 bytes)\n",
      "Requirement already satisfied: requests<3,>=2.21.0 in c:\\users\\siing\\appdata\\local\\programs\\python\\python312\\lib\\site-packages (from tensorflow-intel==2.18.0->tensorflow) (2.32.3)\n",
      "Requirement already satisfied: setuptools in c:\\users\\siing\\appdata\\local\\programs\\python\\python312\\lib\\site-packages (from tensorflow-intel==2.18.0->tensorflow) (75.6.0)\n",
      "Requirement already satisfied: six>=1.12.0 in c:\\users\\siing\\appdata\\local\\programs\\python\\python312\\lib\\site-packages (from tensorflow-intel==2.18.0->tensorflow) (1.17.0)\n",
      "Collecting termcolor>=1.1.0 (from tensorflow-intel==2.18.0->tensorflow)\n",
      "  Using cached termcolor-2.5.0-py3-none-any.whl.metadata (6.1 kB)\n",
      "Requirement already satisfied: typing-extensions>=3.6.6 in c:\\users\\siing\\appdata\\local\\programs\\python\\python312\\lib\\site-packages (from tensorflow-intel==2.18.0->tensorflow) (4.12.2)\n",
      "Collecting wrapt>=1.11.0 (from tensorflow-intel==2.18.0->tensorflow)\n",
      "  Using cached wrapt-1.17.2-cp312-cp312-win_amd64.whl.metadata (6.5 kB)\n",
      "Collecting grpcio<2.0,>=1.24.3 (from tensorflow-intel==2.18.0->tensorflow)\n",
      "  Using cached grpcio-1.70.0-cp312-cp312-win_amd64.whl.metadata (4.0 kB)\n",
      "Collecting tensorboard<2.19,>=2.18 (from tensorflow-intel==2.18.0->tensorflow)\n",
      "  Using cached tensorboard-2.18.0-py3-none-any.whl.metadata (1.6 kB)\n",
      "Collecting keras>=3.5.0 (from tensorflow-intel==2.18.0->tensorflow)\n",
      "  Using cached keras-3.8.0-py3-none-any.whl.metadata (5.8 kB)\n",
      "Collecting numpy<2.1.0,>=1.26.0 (from tensorflow-intel==2.18.0->tensorflow)\n",
      "  Using cached numpy-2.0.2-cp312-cp312-win_amd64.whl.metadata (59 kB)\n",
      "Collecting h5py>=3.11.0 (from tensorflow-intel==2.18.0->tensorflow)\n",
      "  Using cached h5py-3.12.1-cp312-cp312-win_amd64.whl.metadata (2.5 kB)\n",
      "Collecting ml-dtypes<0.5.0,>=0.4.0 (from tensorflow-intel==2.18.0->tensorflow)\n",
      "  Using cached ml_dtypes-0.4.1-cp312-cp312-win_amd64.whl.metadata (20 kB)\n",
      "Collecting wheel<1.0,>=0.23.0 (from astunparse>=1.6.0->tensorflow-intel==2.18.0->tensorflow)\n",
      "  Using cached wheel-0.45.1-py3-none-any.whl.metadata (2.3 kB)\n",
      "Collecting rich (from keras>=3.5.0->tensorflow-intel==2.18.0->tensorflow)\n",
      "  Using cached rich-13.9.4-py3-none-any.whl.metadata (18 kB)\n",
      "Collecting namex (from keras>=3.5.0->tensorflow-intel==2.18.0->tensorflow)\n",
      "  Using cached namex-0.0.8-py3-none-any.whl.metadata (246 bytes)\n",
      "Collecting optree (from keras>=3.5.0->tensorflow-intel==2.18.0->tensorflow)\n",
      "  Using cached optree-0.14.0-cp312-cp312-win_amd64.whl.metadata (48 kB)\n",
      "Requirement already satisfied: charset-normalizer<4,>=2 in c:\\users\\siing\\appdata\\local\\programs\\python\\python312\\lib\\site-packages (from requests<3,>=2.21.0->tensorflow-intel==2.18.0->tensorflow) (3.4.1)\n",
      "Requirement already satisfied: idna<4,>=2.5 in c:\\users\\siing\\appdata\\local\\programs\\python\\python312\\lib\\site-packages (from requests<3,>=2.21.0->tensorflow-intel==2.18.0->tensorflow) (3.10)\n",
      "Requirement already satisfied: urllib3<3,>=1.21.1 in c:\\users\\siing\\appdata\\local\\programs\\python\\python312\\lib\\site-packages (from requests<3,>=2.21.0->tensorflow-intel==2.18.0->tensorflow) (2.3.0)\n",
      "Requirement already satisfied: certifi>=2017.4.17 in c:\\users\\siing\\appdata\\local\\programs\\python\\python312\\lib\\site-packages (from requests<3,>=2.21.0->tensorflow-intel==2.18.0->tensorflow) (2024.12.14)\n",
      "Collecting markdown>=2.6.8 (from tensorboard<2.19,>=2.18->tensorflow-intel==2.18.0->tensorflow)\n",
      "  Using cached Markdown-3.7-py3-none-any.whl.metadata (7.0 kB)\n",
      "Collecting tensorboard-data-server<0.8.0,>=0.7.0 (from tensorboard<2.19,>=2.18->tensorflow-intel==2.18.0->tensorflow)\n",
      "  Using cached tensorboard_data_server-0.7.2-py3-none-any.whl.metadata (1.1 kB)\n",
      "Collecting werkzeug>=1.0.1 (from tensorboard<2.19,>=2.18->tensorflow-intel==2.18.0->tensorflow)\n",
      "  Using cached werkzeug-3.1.3-py3-none-any.whl.metadata (3.7 kB)\n",
      "Requirement already satisfied: MarkupSafe>=2.1.1 in c:\\users\\siing\\appdata\\local\\programs\\python\\python312\\lib\\site-packages (from werkzeug>=1.0.1->tensorboard<2.19,>=2.18->tensorflow-intel==2.18.0->tensorflow) (3.0.2)\n",
      "Collecting markdown-it-py>=2.2.0 (from rich->keras>=3.5.0->tensorflow-intel==2.18.0->tensorflow)\n",
      "  Using cached markdown_it_py-3.0.0-py3-none-any.whl.metadata (6.9 kB)\n",
      "Requirement already satisfied: pygments<3.0.0,>=2.13.0 in c:\\users\\siing\\appdata\\local\\programs\\python\\python312\\lib\\site-packages (from rich->keras>=3.5.0->tensorflow-intel==2.18.0->tensorflow) (2.18.0)\n",
      "Collecting mdurl~=0.1 (from markdown-it-py>=2.2.0->rich->keras>=3.5.0->tensorflow-intel==2.18.0->tensorflow)\n",
      "  Using cached mdurl-0.1.2-py3-none-any.whl.metadata (1.6 kB)\n",
      "Using cached tensorflow-2.18.0-cp312-cp312-win_amd64.whl (7.5 kB)\n",
      "Using cached tensorflow_intel-2.18.0-cp312-cp312-win_amd64.whl (390.3 MB)\n",
      "Using cached absl_py-2.1.0-py3-none-any.whl (133 kB)\n",
      "Using cached astunparse-1.6.3-py2.py3-none-any.whl (12 kB)\n",
      "Using cached flatbuffers-25.1.24-py2.py3-none-any.whl (30 kB)\n",
      "Using cached gast-0.6.0-py3-none-any.whl (21 kB)\n",
      "Using cached google_pasta-0.2.0-py3-none-any.whl (57 kB)\n",
      "Downloading grpcio-1.70.0-cp312-cp312-win_amd64.whl (4.3 MB)\n",
      "   ---------------------------------------- 0.0/4.3 MB ? eta -:--:--\n",
      "   ---------------------------------------- 0.0/4.3 MB ? eta -:--:--\n",
      "   ---------------------------------------- 0.0/4.3 MB ? eta -:--:--\n",
      "   -- ------------------------------------- 0.3/4.3 MB ? eta -:--:--\n",
      "   ------- -------------------------------- 0.8/4.3 MB 1.9 MB/s eta 0:00:02\n",
      "   ------------ --------------------------- 1.3/4.3 MB 1.9 MB/s eta 0:00:02\n",
      "   ----------------- ---------------------- 1.8/4.3 MB 2.1 MB/s eta 0:00:02\n",
      "   --------------------- ------------------ 2.4/4.3 MB 2.2 MB/s eta 0:00:01\n",
      "   -------------------------- ------------- 2.9/4.3 MB 2.4 MB/s eta 0:00:01\n",
      "   ------------------------------- -------- 3.4/4.3 MB 2.4 MB/s eta 0:00:01\n",
      "   ------------------------------------ --- 3.9/4.3 MB 2.3 MB/s eta 0:00:01\n",
      "   ---------------------------------------  4.2/4.3 MB 2.2 MB/s eta 0:00:01\n",
      "   ---------------------------------------- 4.3/4.3 MB 2.1 MB/s eta 0:00:00\n",
      "Downloading h5py-3.12.1-cp312-cp312-win_amd64.whl (3.0 MB)\n",
      "   ---------------------------------------- 0.0/3.0 MB ? eta -:--:--\n",
      "   ---------------------------------------- 0.0/3.0 MB ? eta -:--:--\n",
      "   --- ------------------------------------ 0.3/3.0 MB ? eta -:--:--\n",
      "   ---------- ----------------------------- 0.8/3.0 MB 1.3 MB/s eta 0:00:02\n",
      "   -------------- ------------------------- 1.0/3.0 MB 1.3 MB/s eta 0:00:02\n",
      "   ----------------- ---------------------- 1.3/3.0 MB 1.4 MB/s eta 0:00:02\n",
      "   --------------------- ------------------ 1.6/3.0 MB 1.4 MB/s eta 0:00:02\n",
      "   ------------------------ --------------- 1.8/3.0 MB 1.4 MB/s eta 0:00:01\n",
      "   ------------------------------- -------- 2.4/3.0 MB 1.5 MB/s eta 0:00:01\n",
      "   ----------------------------------- ---- 2.6/3.0 MB 1.4 MB/s eta 0:00:01\n",
      "   -------------------------------------- - 2.9/3.0 MB 1.4 MB/s eta 0:00:01\n",
      "   ---------------------------------------- 3.0/3.0 MB 1.4 MB/s eta 0:00:00\n",
      "Downloading keras-3.8.0-py3-none-any.whl (1.3 MB)\n",
      "   ---------------------------------------- 0.0/1.3 MB ? eta -:--:--\n",
      "   -------- ------------------------------- 0.3/1.3 MB ? eta -:--:--\n",
      "   ------------------------ --------------- 0.8/1.3 MB 2.0 MB/s eta 0:00:01\n",
      "   -------------------------------- ------- 1.0/1.3 MB 1.9 MB/s eta 0:00:01\n",
      "   ---------------------------------------- 1.3/1.3 MB 1.9 MB/s eta 0:00:00\n",
      "Downloading libclang-18.1.1-py2.py3-none-win_amd64.whl (26.4 MB)\n",
      "   ---------------------------------------- 0.0/26.4 MB ? eta -:--:--\n",
      "   ---------------------------------------- 0.3/26.4 MB ? eta -:--:--\n",
      "   - -------------------------------------- 0.8/26.4 MB 2.0 MB/s eta 0:00:14\n",
      "   - -------------------------------------- 1.0/26.4 MB 1.9 MB/s eta 0:00:14\n",
      "   -- ------------------------------------- 1.6/26.4 MB 2.0 MB/s eta 0:00:13\n",
      "   -- ------------------------------------- 1.8/26.4 MB 2.1 MB/s eta 0:00:12\n",
      "   --- ------------------------------------ 2.4/26.4 MB 2.1 MB/s eta 0:00:12\n",
      "   ---- ----------------------------------- 2.9/26.4 MB 2.1 MB/s eta 0:00:12\n",
      "   ----- ---------------------------------- 3.4/26.4 MB 2.1 MB/s eta 0:00:11\n",
      "   ----- ---------------------------------- 3.7/26.4 MB 2.1 MB/s eta 0:00:11\n",
      "   ----- ---------------------------------- 3.9/26.4 MB 1.9 MB/s eta 0:00:12\n",
      "   ------ --------------------------------- 4.2/26.4 MB 1.9 MB/s eta 0:00:12\n",
      "   ------- -------------------------------- 4.7/26.4 MB 1.9 MB/s eta 0:00:12\n",
      "   ------- -------------------------------- 5.0/26.4 MB 1.9 MB/s eta 0:00:12\n",
      "   -------- ------------------------------- 5.5/26.4 MB 1.9 MB/s eta 0:00:11\n",
      "   -------- ------------------------------- 5.8/26.4 MB 1.9 MB/s eta 0:00:11\n",
      "   --------- ------------------------------ 6.0/26.4 MB 1.9 MB/s eta 0:00:11\n",
      "   --------- ------------------------------ 6.6/26.4 MB 1.9 MB/s eta 0:00:11\n",
      "   ---------- ----------------------------- 7.1/26.4 MB 1.9 MB/s eta 0:00:11\n",
      "   ----------- ---------------------------- 7.6/26.4 MB 1.9 MB/s eta 0:00:10\n",
      "   ----------- ---------------------------- 7.9/26.4 MB 1.9 MB/s eta 0:00:10\n",
      "   ------------ --------------------------- 8.4/26.4 MB 2.0 MB/s eta 0:00:10\n",
      "   ------------- -------------------------- 8.9/26.4 MB 2.0 MB/s eta 0:00:09\n",
      "   -------------- ------------------------- 9.4/26.4 MB 2.0 MB/s eta 0:00:09\n",
      "   -------------- ------------------------- 9.7/26.4 MB 2.0 MB/s eta 0:00:09\n",
      "   --------------- ------------------------ 10.2/26.4 MB 2.0 MB/s eta 0:00:09\n",
      "   --------------- ------------------------ 10.5/26.4 MB 2.0 MB/s eta 0:00:09\n",
      "   --------------- ------------------------ 10.5/26.4 MB 2.0 MB/s eta 0:00:09\n",
      "   ---------------- ----------------------- 10.7/26.4 MB 1.9 MB/s eta 0:00:09\n",
      "   ---------------- ----------------------- 10.7/26.4 MB 1.9 MB/s eta 0:00:09\n",
      "   ---------------- ----------------------- 11.0/26.4 MB 1.8 MB/s eta 0:00:09\n",
      "   ---------------- ----------------------- 11.0/26.4 MB 1.8 MB/s eta 0:00:09\n",
      "   ----------------- ---------------------- 11.3/26.4 MB 1.7 MB/s eta 0:00:09\n",
      "   ----------------- ---------------------- 11.3/26.4 MB 1.7 MB/s eta 0:00:09\n",
      "   ----------------- ---------------------- 11.3/26.4 MB 1.7 MB/s eta 0:00:09\n",
      "   ----------------- ---------------------- 11.5/26.4 MB 1.6 MB/s eta 0:00:10\n",
      "   ----------------- ---------------------- 11.5/26.4 MB 1.6 MB/s eta 0:00:10\n",
      "   ----------------- ---------------------- 11.5/26.4 MB 1.6 MB/s eta 0:00:10\n",
      "   ----------------- ---------------------- 11.8/26.4 MB 1.5 MB/s eta 0:00:10\n",
      "   ----------------- ---------------------- 11.8/26.4 MB 1.5 MB/s eta 0:00:10\n",
      "   ----------------- ---------------------- 11.8/26.4 MB 1.5 MB/s eta 0:00:10\n",
      "   ----------------- ---------------------- 11.8/26.4 MB 1.5 MB/s eta 0:00:10\n",
      "   ------------------ --------------------- 12.1/26.4 MB 1.4 MB/s eta 0:00:11\n",
      "   ------------------ --------------------- 12.1/26.4 MB 1.4 MB/s eta 0:00:11\n",
      "   ------------------ --------------------- 12.3/26.4 MB 1.3 MB/s eta 0:00:11\n",
      "   ------------------ --------------------- 12.3/26.4 MB 1.3 MB/s eta 0:00:11\n",
      "   ------------------ --------------------- 12.3/26.4 MB 1.3 MB/s eta 0:00:11\n",
      "   ------------------- -------------------- 12.6/26.4 MB 1.3 MB/s eta 0:00:11\n",
      "   ------------------- -------------------- 12.6/26.4 MB 1.3 MB/s eta 0:00:11\n",
      "   ------------------- -------------------- 12.8/26.4 MB 1.3 MB/s eta 0:00:11\n",
      "   ------------------- -------------------- 12.8/26.4 MB 1.3 MB/s eta 0:00:11\n",
      "   ------------------- -------------------- 13.1/26.4 MB 1.3 MB/s eta 0:00:11\n",
      "   -------------------- ------------------- 13.4/26.4 MB 1.2 MB/s eta 0:00:11\n",
      "   -------------------- ------------------- 13.4/26.4 MB 1.2 MB/s eta 0:00:11\n",
      "   -------------------- ------------------- 13.6/26.4 MB 1.2 MB/s eta 0:00:11\n",
      "   -------------------- ------------------- 13.6/26.4 MB 1.2 MB/s eta 0:00:11\n",
      "   --------------------- ------------------ 13.9/26.4 MB 1.2 MB/s eta 0:00:11\n",
      "   --------------------- ------------------ 13.9/26.4 MB 1.2 MB/s eta 0:00:11\n",
      "   --------------------- ------------------ 13.9/26.4 MB 1.2 MB/s eta 0:00:11\n",
      "   --------------------- ------------------ 13.9/26.4 MB 1.2 MB/s eta 0:00:11\n",
      "   --------------------- ------------------ 13.9/26.4 MB 1.2 MB/s eta 0:00:11\n",
      "   --------------------- ------------------ 14.2/26.4 MB 1.1 MB/s eta 0:00:11\n",
      "   --------------------- ------------------ 14.2/26.4 MB 1.1 MB/s eta 0:00:11\n",
      "   --------------------- ------------------ 14.2/26.4 MB 1.1 MB/s eta 0:00:11\n",
      "   --------------------- ------------------ 14.4/26.4 MB 1.1 MB/s eta 0:00:12\n",
      "   --------------------- ------------------ 14.4/26.4 MB 1.1 MB/s eta 0:00:12\n",
      "   ---------------------- ----------------- 14.7/26.4 MB 1.1 MB/s eta 0:00:12\n",
      "   ---------------------- ----------------- 14.7/26.4 MB 1.1 MB/s eta 0:00:12\n",
      "   ---------------------- ----------------- 14.9/26.4 MB 1.1 MB/s eta 0:00:11\n",
      "   ---------------------- ----------------- 14.9/26.4 MB 1.1 MB/s eta 0:00:11\n",
      "   ----------------------- ---------------- 15.2/26.4 MB 1.0 MB/s eta 0:00:11\n",
      "   ----------------------- ---------------- 15.2/26.4 MB 1.0 MB/s eta 0:00:11\n",
      "   ----------------------- ---------------- 15.5/26.4 MB 1.0 MB/s eta 0:00:11\n",
      "   ----------------------- ---------------- 15.5/26.4 MB 1.0 MB/s eta 0:00:11\n",
      "   ----------------------- ---------------- 15.7/26.4 MB 1.0 MB/s eta 0:00:11\n",
      "   ------------------------ --------------- 16.0/26.4 MB 1.0 MB/s eta 0:00:11\n",
      "   ------------------------ --------------- 16.0/26.4 MB 1.0 MB/s eta 0:00:11\n",
      "   ------------------------ --------------- 16.3/26.4 MB 1.0 MB/s eta 0:00:10\n",
      "   ------------------------ --------------- 16.3/26.4 MB 1.0 MB/s eta 0:00:10\n",
      "   ------------------------- -------------- 16.5/26.4 MB 1.0 MB/s eta 0:00:10\n",
      "   ------------------------- -------------- 16.5/26.4 MB 1.0 MB/s eta 0:00:10\n",
      "   ------------------------- -------------- 16.5/26.4 MB 1.0 MB/s eta 0:00:10\n",
      "   ------------------------- -------------- 16.8/26.4 MB 989.6 kB/s eta 0:00:10\n",
      "   ------------------------- -------------- 16.8/26.4 MB 989.6 kB/s eta 0:00:10\n",
      "   ------------------------- -------------- 16.8/26.4 MB 989.6 kB/s eta 0:00:10\n",
      "   ------------------------- -------------- 17.0/26.4 MB 969.1 kB/s eta 0:00:10\n",
      "   ------------------------- -------------- 17.0/26.4 MB 969.1 kB/s eta 0:00:10\n",
      "   -------------------------- ------------- 17.3/26.4 MB 956.6 kB/s eta 0:00:10\n",
      "   -------------------------- ------------- 17.3/26.4 MB 956.6 kB/s eta 0:00:10\n",
      "   -------------------------- ------------- 17.3/26.4 MB 956.6 kB/s eta 0:00:10\n",
      "   -------------------------- ------------- 17.6/26.4 MB 945.6 kB/s eta 0:00:10\n",
      "   -------------------------- ------------- 17.6/26.4 MB 945.6 kB/s eta 0:00:10\n",
      "   -------------------------- ------------- 17.8/26.4 MB 938.3 kB/s eta 0:00:10\n",
      "   --------------------------- ------------ 18.1/26.4 MB 937.4 kB/s eta 0:00:09\n",
      "   --------------------------- ------------ 18.1/26.4 MB 937.4 kB/s eta 0:00:09\n",
      "   --------------------------- ------------ 18.4/26.4 MB 935.8 kB/s eta 0:00:09\n",
      "   ---------------------------- ----------- 18.6/26.4 MB 934.3 kB/s eta 0:00:09\n",
      "   ---------------------------- ----------- 18.9/26.4 MB 935.0 kB/s eta 0:00:09\n",
      "   ---------------------------- ----------- 18.9/26.4 MB 935.0 kB/s eta 0:00:09\n",
      "   ---------------------------- ----------- 19.1/26.4 MB 935.7 kB/s eta 0:00:08\n",
      "   ----------------------------- ---------- 19.4/26.4 MB 937.8 kB/s eta 0:00:08\n",
      "   ----------------------------- ---------- 19.7/26.4 MB 941.2 kB/s eta 0:00:08\n",
      "   ------------------------------ --------- 19.9/26.4 MB 941.8 kB/s eta 0:00:07\n",
      "   ------------------------------ --------- 20.2/26.4 MB 943.8 kB/s eta 0:00:07\n",
      "   ------------------------------ --------- 20.4/26.4 MB 947.8 kB/s eta 0:00:07\n",
      "   ------------------------------- -------- 20.7/26.4 MB 951.0 kB/s eta 0:00:06\n",
      "   ------------------------------- -------- 21.0/26.4 MB 954.9 kB/s eta 0:00:06\n",
      "   -------------------------------- ------- 21.5/26.4 MB 963.8 kB/s eta 0:00:06\n",
      "   -------------------------------- ------- 21.8/26.4 MB 968.8 kB/s eta 0:00:05\n",
      "   --------------------------------- ------ 22.0/26.4 MB 971.7 kB/s eta 0:00:05\n",
      "   --------------------------------- ------ 22.3/26.4 MB 975.9 kB/s eta 0:00:05\n",
      "   ---------------------------------- ----- 22.5/26.4 MB 980.8 kB/s eta 0:00:04\n",
      "   ---------------------------------- ----- 23.1/26.4 MB 988.2 kB/s eta 0:00:04\n",
      "   ----------------------------------- ---- 23.3/26.4 MB 990.9 kB/s eta 0:00:04\n",
      "   ----------------------------------- ---- 23.6/26.4 MB 994.1 kB/s eta 0:00:03\n",
      "   ------------------------------------ --- 23.9/26.4 MB 997.3 kB/s eta 0:00:03\n",
      "   ------------------------------------ --- 24.1/26.4 MB 1.0 MB/s eta 0:00:03\n",
      "   ------------------------------------ --- 24.4/26.4 MB 1.0 MB/s eta 0:00:03\n",
      "   ------------------------------------ --- 24.4/26.4 MB 1.0 MB/s eta 0:00:03\n",
      "   ------------------------------------- -- 24.6/26.4 MB 1.0 MB/s eta 0:00:02\n",
      "   ------------------------------------- -- 24.9/26.4 MB 1.0 MB/s eta 0:00:02\n",
      "   -------------------------------------- - 25.2/26.4 MB 1.0 MB/s eta 0:00:02\n",
      "   -------------------------------------- - 25.4/26.4 MB 1.0 MB/s eta 0:00:01\n",
      "   -------------------------------------- - 25.7/26.4 MB 1.0 MB/s eta 0:00:01\n",
      "   ---------------------------------------  26.0/26.4 MB 1.0 MB/s eta 0:00:01\n",
      "   ---------------------------------------- 26.4/26.4 MB 1.0 MB/s eta 0:00:00\n",
      "Downloading ml_dtypes-0.4.1-cp312-cp312-win_amd64.whl (127 kB)\n",
      "Using cached numpy-2.0.2-cp312-cp312-win_amd64.whl (15.6 MB)\n",
      "Downloading opt_einsum-3.4.0-py3-none-any.whl (71 kB)\n",
      "Downloading protobuf-5.29.3-cp310-abi3-win_amd64.whl (434 kB)\n",
      "Downloading tensorboard-2.18.0-py3-none-any.whl (5.5 MB)\n",
      "   ---------------------------------------- 0.0/5.5 MB ? eta -:--:--\n",
      "   - -------------------------------------- 0.3/5.5 MB ? eta -:--:--\n",
      "   - -------------------------------------- 0.3/5.5 MB ? eta -:--:--\n",
      "   --- ------------------------------------ 0.5/5.5 MB 1.0 MB/s eta 0:00:05\n",
      "   ----- ---------------------------------- 0.8/5.5 MB 838.9 kB/s eta 0:00:06\n",
      "   ----- ---------------------------------- 0.8/5.5 MB 838.9 kB/s eta 0:00:06\n",
      "   ------- -------------------------------- 1.0/5.5 MB 883.6 kB/s eta 0:00:06\n",
      "   ----------- ---------------------------- 1.6/5.5 MB 1.0 MB/s eta 0:00:04\n",
      "   ------------- -------------------------- 1.8/5.5 MB 1.0 MB/s eta 0:00:04\n",
      "   --------------- ------------------------ 2.1/5.5 MB 1.1 MB/s eta 0:00:04\n",
      "   ----------------- ---------------------- 2.4/5.5 MB 1.1 MB/s eta 0:00:03\n",
      "   ------------------- -------------------- 2.6/5.5 MB 1.2 MB/s eta 0:00:03\n",
      "   -------------------- ------------------- 2.9/5.5 MB 1.2 MB/s eta 0:00:03\n",
      "   ------------------------ --------------- 3.4/5.5 MB 1.2 MB/s eta 0:00:02\n",
      "   -------------------------- ------------- 3.7/5.5 MB 1.3 MB/s eta 0:00:02\n",
      "   ---------------------------- ----------- 3.9/5.5 MB 1.3 MB/s eta 0:00:02\n",
      "   ------------------------------ --------- 4.2/5.5 MB 1.3 MB/s eta 0:00:02\n",
      "   -------------------------------- ------- 4.5/5.5 MB 1.3 MB/s eta 0:00:01\n",
      "   ---------------------------------- ----- 4.7/5.5 MB 1.3 MB/s eta 0:00:01\n",
      "   ------------------------------------ --- 5.0/5.5 MB 1.3 MB/s eta 0:00:01\n",
      "   -------------------------------------- - 5.2/5.5 MB 1.3 MB/s eta 0:00:01\n",
      "   -------------------------------------- - 5.2/5.5 MB 1.3 MB/s eta 0:00:01\n",
      "   ---------------------------------------- 5.5/5.5 MB 1.2 MB/s eta 0:00:00\n",
      "Downloading termcolor-2.5.0-py3-none-any.whl (7.8 kB)\n",
      "Downloading wrapt-1.17.2-cp312-cp312-win_amd64.whl (38 kB)\n",
      "Downloading Markdown-3.7-py3-none-any.whl (106 kB)\n",
      "Downloading tensorboard_data_server-0.7.2-py3-none-any.whl (2.4 kB)\n",
      "Downloading werkzeug-3.1.3-py3-none-any.whl (224 kB)\n",
      "Downloading wheel-0.45.1-py3-none-any.whl (72 kB)\n",
      "Downloading namex-0.0.8-py3-none-any.whl (5.8 kB)\n",
      "Downloading optree-0.14.0-cp312-cp312-win_amd64.whl (299 kB)\n",
      "Downloading rich-13.9.4-py3-none-any.whl (242 kB)\n",
      "Downloading markdown_it_py-3.0.0-py3-none-any.whl (87 kB)\n",
      "Downloading mdurl-0.1.2-py3-none-any.whl (10.0 kB)\n",
      "Installing collected packages: namex, libclang, flatbuffers, wrapt, wheel, werkzeug, termcolor, tensorboard-data-server, protobuf, optree, opt-einsum, numpy, mdurl, markdown, grpcio, google-pasta, gast, absl-py, tensorboard, ml-dtypes, markdown-it-py, h5py, astunparse, rich, keras, tensorflow-intel, tensorflow\n",
      "  Attempting uninstall: numpy\n",
      "    Found existing installation: numpy 2.2.1\n",
      "    Uninstalling numpy-2.2.1:\n",
      "      Successfully uninstalled numpy-2.2.1\n",
      "Successfully installed absl-py-2.1.0 astunparse-1.6.3 flatbuffers-25.1.24 gast-0.6.0 google-pasta-0.2.0 grpcio-1.70.0 h5py-3.12.1 keras-3.8.0 libclang-18.1.1 markdown-3.7 markdown-it-py-3.0.0 mdurl-0.1.2 ml-dtypes-0.4.1 namex-0.0.8 numpy-2.0.2 opt-einsum-3.4.0 optree-0.14.0 protobuf-5.29.3 rich-13.9.4 tensorboard-2.18.0 tensorboard-data-server-0.7.2 tensorflow-2.18.0 tensorflow-intel-2.18.0 termcolor-2.5.0 werkzeug-3.1.3 wheel-0.45.1 wrapt-1.17.2\n",
      "Note: you may need to restart the kernel to use updated packages.\n"
     ]
    },
    {
     "name": "stderr",
     "output_type": "stream",
     "text": [
      "\n",
      "[notice] A new release of pip is available: 24.3.1 -> 25.0\n",
      "[notice] To update, run: python.exe -m pip install --upgrade pip\n"
     ]
    }
   ],
   "source": [
    "pip install tensorflow"
   ]
  },
  {
   "cell_type": "code",
   "execution_count": 5,
   "id": "66dba9c9-a6ec-404e-9007-9c706a7dc9a9",
   "metadata": {},
   "outputs": [],
   "source": [
    "import pandas as pd\n",
    "import numpy as np\n",
    "from sklearn.model_selection import train_test_split\n",
    "from sklearn.preprocessing import StandardScaler, LabelEncoder, OneHotEncoder\n",
    "from tensorflow.keras.models import Sequential\n",
    "from tensorflow.keras.layers import Dense\n",
    "from tensorflow.keras.optimizers import Adam"
   ]
  },
  {
   "cell_type": "code",
   "execution_count": 35,
   "id": "345901e3-b007-4717-88d2-bec97bdd274e",
   "metadata": {},
   "outputs": [],
   "source": [
    "df = pd.read_csv(r\"C:\\Users\\siing\\Downloads\\ML Practice\\Deepseek ANN\\Data for GW.csv\")"
   ]
  },
  {
   "cell_type": "code",
   "execution_count": 39,
   "id": "a741285f-f06b-49fc-a443-0847afe3ad7e",
   "metadata": {},
   "outputs": [
    {
     "name": "stdout",
     "output_type": "stream",
     "text": [
      "   Elevation   Soil Type  Lithology  Rainfall  LST  Soil Moisture   Slope  \\\n",
      "0        120  Sandy Loam  Sandstone       800   28              45      2   \n",
      "1        150        Clay      Shale       900   26              50      5   \n",
      "2        200   Silt Loam  Limestone       750   30              40      3   \n",
      "3        100  Sandy Clay    Granite      1000   25              55      1   \n",
      "4        250  Loamy Sand     Basalt       600   32              35      7   \n",
      "5        180   Clay Loam  Sandstone       850   27              48      4   \n",
      "6        300  Sandy Loam      Shale       700   29              42      6   \n",
      "7        220   Silt Loam  Limestone       950   24              52      2   \n",
      "8        130        Clay    Granite      1100   23              58      1   \n",
      "9        270  Loamy Sand     Basalt       650   31              38      8   \n",
      "\n",
      "   Groundwater Level  \n",
      "0                 15  \n",
      "1                 12  \n",
      "2                 18  \n",
      "3                 10  \n",
      "4                 20  \n",
      "5                 14  \n",
      "6                 16  \n",
      "7                 11  \n",
      "8                  9  \n",
      "9                 22  \n"
     ]
    }
   ],
   "source": [
    "print(df)"
   ]
  },
  {
   "cell_type": "code",
   "execution_count": 43,
   "id": "ecb8ee1a-d615-407d-aa84-146d817c0dab",
   "metadata": {},
   "outputs": [
    {
     "name": "stdout",
     "output_type": "stream",
     "text": [
      "Elevation             int64\n",
      "Soil Type            object\n",
      "Lithology            object\n",
      "Rainfall              int64\n",
      "LST                   int64\n",
      "Soil Moisture         int64\n",
      "Slope                 int64\n",
      "Groundwater Level     int64\n",
      "dtype: object\n"
     ]
    }
   ],
   "source": [
    "print(df.dtypes)"
   ]
  },
  {
   "cell_type": "code",
   "execution_count": 40,
   "id": "209cd6ff-8d41-42dd-bd66-63383e11b830",
   "metadata": {},
   "outputs": [],
   "source": [
    "df[\"Soil Type\"] =df[\"Soil Type\"].astype(str)\n",
    "df[\"Lithology\"] =df[\"Lithology\"].astype(str)"
   ]
  },
  {
   "cell_type": "code",
   "execution_count": 41,
   "id": "e584fc6b-1315-4976-9736-e84a50931ffc",
   "metadata": {},
   "outputs": [
    {
     "name": "stdout",
     "output_type": "stream",
     "text": [
      "   Elevation   Soil Type  Lithology  Rainfall  LST  Soil Moisture   Slope  \\\n",
      "0        120  Sandy Loam  Sandstone       800   28              45      2   \n",
      "1        150        Clay      Shale       900   26              50      5   \n",
      "2        200   Silt Loam  Limestone       750   30              40      3   \n",
      "3        100  Sandy Clay    Granite      1000   25              55      1   \n",
      "4        250  Loamy Sand     Basalt       600   32              35      7   \n",
      "5        180   Clay Loam  Sandstone       850   27              48      4   \n",
      "6        300  Sandy Loam      Shale       700   29              42      6   \n",
      "7        220   Silt Loam  Limestone       950   24              52      2   \n",
      "8        130        Clay    Granite      1100   23              58      1   \n",
      "9        270  Loamy Sand     Basalt       650   31              38      8   \n",
      "\n",
      "   Groundwater Level  \n",
      "0                 15  \n",
      "1                 12  \n",
      "2                 18  \n",
      "3                 10  \n",
      "4                 20  \n",
      "5                 14  \n",
      "6                 16  \n",
      "7                 11  \n",
      "8                  9  \n",
      "9                 22  \n"
     ]
    }
   ],
   "source": [
    "print(df)"
   ]
  },
  {
   "cell_type": "code",
   "execution_count": 46,
   "id": "d0c598e6-e0dc-4feb-9775-db14ffca87be",
   "metadata": {},
   "outputs": [
    {
     "name": "stdout",
     "output_type": "stream",
     "text": [
      "Elevation             int64\n",
      "Soil Type            object\n",
      "Lithology            object\n",
      "Rainfall              int64\n",
      "LST                   int64\n",
      "Soil Moisture         int64\n",
      "Slope                 int64\n",
      "Groundwater Level     int64\n",
      "dtype: object\n"
     ]
    }
   ],
   "source": [
    "print(df.dtypes)"
   ]
  },
  {
   "cell_type": "code",
   "execution_count": 47,
   "id": "04773e75-74e4-4daa-b5cf-991f22b9a885",
   "metadata": {},
   "outputs": [],
   "source": [
    "df_encoded = pd.get_dummies(df, columns= [\"Soil Type\", \"Lithology\"], drop_first =True, dtype=int)"
   ]
  },
  {
   "cell_type": "code",
   "execution_count": 48,
   "id": "6df66b67-a734-4cf9-98a4-bbdc88cb6dbc",
   "metadata": {},
   "outputs": [
    {
     "name": "stdout",
     "output_type": "stream",
     "text": [
      "   Elevation  Rainfall  LST  Soil Moisture   Slope  Groundwater Level  \\\n",
      "0        120       800   28              45      2                 15   \n",
      "1        150       900   26              50      5                 12   \n",
      "2        200       750   30              40      3                 18   \n",
      "3        100      1000   25              55      1                 10   \n",
      "4        250       600   32              35      7                 20   \n",
      "\n",
      "   Soil Type_Clay Loam  Soil Type_Loamy Sand  Soil Type_Sandy Clay  \\\n",
      "0                    0                     0                     0   \n",
      "1                    0                     0                     0   \n",
      "2                    0                     0                     0   \n",
      "3                    0                     0                     1   \n",
      "4                    0                     1                     0   \n",
      "\n",
      "   Soil Type_Sandy Loam  Soil Type_Silt Loam  Lithology_Granite  \\\n",
      "0                     1                    0                  0   \n",
      "1                     0                    0                  0   \n",
      "2                     0                    1                  0   \n",
      "3                     0                    0                  1   \n",
      "4                     0                    0                  0   \n",
      "\n",
      "   Lithology_Limestone  Lithology_Sandstone  Lithology_Shale  \n",
      "0                    0                    1                0  \n",
      "1                    0                    0                1  \n",
      "2                    1                    0                0  \n",
      "3                    0                    0                0  \n",
      "4                    0                    0                0  \n"
     ]
    }
   ],
   "source": [
    "print(df_encoded.head())"
   ]
  },
  {
   "cell_type": "markdown",
   "id": "64a49db9-5a67-42b8-ad2e-7bc7f2e805ff",
   "metadata": {},
   "source": [
    "Separate features (x) and target(y)"
   ]
  },
  {
   "cell_type": "code",
   "execution_count": 53,
   "id": "35a7cef1-5145-4e16-bfdf-410f6c2f6f3b",
   "metadata": {},
   "outputs": [],
   "source": [
    "x = df_encoded.drop(\"Groundwater Level\", axis=1)\n",
    "y = df_encoded [\"Groundwater Level\"]"
   ]
  },
  {
   "cell_type": "markdown",
   "id": "f1b668aa-b2a5-4efa-bd0c-3d1bf8f0df99",
   "metadata": {},
   "source": [
    "Normalize numerical features"
   ]
  },
  {
   "cell_type": "code",
   "execution_count": 55,
   "id": "b8df4bd9-e227-4bd3-97b1-def2c97c9739",
   "metadata": {},
   "outputs": [],
   "source": [
    "scaler = StandardScaler()\n",
    "x = scaler.fit_transform(x)"
   ]
  },
  {
   "cell_type": "code",
   "execution_count": 57,
   "id": "ad0bf6a5-c90b-4230-bbdc-51db52b8018a",
   "metadata": {},
   "outputs": [
    {
     "name": "stdout",
     "output_type": "stream",
     "text": [
      "[[-1.11954674 -0.19738551  0.17407766 -0.18060782 -0.79652144 -0.33333333\n",
      "  -0.5        -0.33333333  2.         -0.5        -0.5        -0.5\n",
      "   2.         -0.5       ]\n",
      " [-0.65306893  0.46056619 -0.52223297  0.51403765  0.46114399 -0.33333333\n",
      "  -0.5        -0.33333333 -0.5        -0.5        -0.5        -0.5\n",
      "  -0.5         2.        ]\n",
      " [ 0.12439408 -0.52636136  0.87038828 -0.87525329 -0.37729963 -0.33333333\n",
      "  -0.5        -0.33333333 -0.5         2.         -0.5         2.\n",
      "  -0.5        -0.5       ]\n",
      " [-1.43053195  1.11851788 -0.87038828  1.20868312 -1.21574324 -0.33333333\n",
      "  -0.5         3.         -0.5        -0.5         2.         -0.5\n",
      "  -0.5        -0.5       ]\n",
      " [ 0.9018571  -1.5132889   1.5666989  -1.56989876  1.29958761 -0.33333333\n",
      "   2.         -0.33333333 -0.5        -0.5        -0.5        -0.5\n",
      "  -0.5        -0.5       ]]\n"
     ]
    }
   ],
   "source": [
    "print(x[:5])"
   ]
  },
  {
   "cell_type": "markdown",
   "id": "021c0e78-9e5f-48cf-a19b-d04f28c27c43",
   "metadata": {},
   "source": [
    "Split the Data into Training and Testing Sets"
   ]
  },
  {
   "cell_type": "code",
   "execution_count": 58,
   "id": "eb825f86-7873-4f9b-bf8a-dcca2ceec906",
   "metadata": {},
   "outputs": [],
   "source": [
    "x_train, x_test, y_train, y_test = train_test_split(x,y, test_size=0.2, random_state=42)"
   ]
  },
  {
   "cell_type": "code",
   "execution_count": 59,
   "id": "97f7cedc-36d7-41a9-9aa5-a5b7d3d9cac2",
   "metadata": {},
   "outputs": [
    {
     "name": "stdout",
     "output_type": "stream",
     "text": [
      "Training data shape: (8, 14)\n",
      "Training data shape: (2, 14)\n"
     ]
    }
   ],
   "source": [
    "print(\"Training data shape:\", x_train.shape)\n",
    "print(\"Training data shape:\", x_test.shape)"
   ]
  },
  {
   "cell_type": "markdown",
   "id": "d3d1a306-763b-4c21-90a8-f4d17eafe364",
   "metadata": {},
   "source": [
    "Initialize the ANN"
   ]
  },
  {
   "cell_type": "code",
   "execution_count": 60,
   "id": "5f3a16fb-77bf-4547-8b36-255b532ae8bb",
   "metadata": {},
   "outputs": [],
   "source": [
    "model = Sequential()"
   ]
  },
  {
   "cell_type": "markdown",
   "id": "213f01a1-f696-4513-8b5a-cffaf0cefdc6",
   "metadata": {},
   "source": [
    "Add input layer and first hidden layer"
   ]
  },
  {
   "cell_type": "code",
   "execution_count": 61,
   "id": "3e06881e-b4c9-467c-9214-d44c97541ccb",
   "metadata": {},
   "outputs": [
    {
     "name": "stderr",
     "output_type": "stream",
     "text": [
      "C:\\Users\\siing\\AppData\\Local\\Programs\\Python\\Python312\\Lib\\site-packages\\keras\\src\\layers\\core\\dense.py:87: UserWarning: Do not pass an `input_shape`/`input_dim` argument to a layer. When using Sequential models, prefer using an `Input(shape)` object as the first layer in the model instead.\n",
      "  super().__init__(activity_regularizer=activity_regularizer, **kwargs)\n"
     ]
    }
   ],
   "source": [
    "model.add(Dense(units=64, activation='relu', input_shape=(x_train.shape[1],)))"
   ]
  },
  {
   "cell_type": "markdown",
   "id": "5fde7faf-e3e1-45a1-a758-b4943177d1cc",
   "metadata": {},
   "source": [
    "Add second hidden layer"
   ]
  },
  {
   "cell_type": "code",
   "execution_count": 62,
   "id": "a361b47a-ef1f-4b91-b2b7-95045886039e",
   "metadata": {},
   "outputs": [],
   "source": [
    "model.add(Dense(units=64, activation='relu'))"
   ]
  },
  {
   "cell_type": "markdown",
   "id": "b9c0032c-34ad-41e8-9280-d369ab8309ce",
   "metadata": {},
   "source": [
    "Add output layer (for regression, no activation function)"
   ]
  },
  {
   "cell_type": "code",
   "execution_count": 63,
   "id": "86cf4cf2-4603-4d84-a53d-fa4fbca6ce0f",
   "metadata": {},
   "outputs": [],
   "source": [
    "model.add(Dense(units=1))"
   ]
  },
  {
   "cell_type": "markdown",
   "id": "0c20f696-d030-46b2-994b-99d7b27244ad",
   "metadata": {},
   "source": [
    "Compile the model"
   ]
  },
  {
   "cell_type": "code",
   "execution_count": 64,
   "id": "6cd51700-a0b9-4616-86d4-c317c4ed01ea",
   "metadata": {},
   "outputs": [],
   "source": [
    "model.compile(optimizer=Adam(learning_rate=0.001), loss='mean_squared_error', metrics=['mae'])"
   ]
  },
  {
   "cell_type": "markdown",
   "id": "aeefbc87-589e-4fc4-840b-f3452bf23f00",
   "metadata": {},
   "source": [
    "Model Summary"
   ]
  },
  {
   "cell_type": "code",
   "execution_count": 65,
   "id": "c3bbb3bb-6b48-43b8-88e0-5e40a8d52660",
   "metadata": {},
   "outputs": [
    {
     "data": {
      "text/html": [
       "<pre style=\"white-space:pre;overflow-x:auto;line-height:normal;font-family:Menlo,'DejaVu Sans Mono',consolas,'Courier New',monospace\"><span style=\"font-weight: bold\">Model: \"sequential\"</span>\n",
       "</pre>\n"
      ],
      "text/plain": [
       "\u001b[1mModel: \"sequential\"\u001b[0m\n"
      ]
     },
     "metadata": {},
     "output_type": "display_data"
    },
    {
     "data": {
      "text/html": [
       "<pre style=\"white-space:pre;overflow-x:auto;line-height:normal;font-family:Menlo,'DejaVu Sans Mono',consolas,'Courier New',monospace\">┏━━━━━━━━━━━━━━━━━━━━━━━━━━━━━━━━━━━━━━┳━━━━━━━━━━━━━━━━━━━━━━━━━━━━━┳━━━━━━━━━━━━━━━━━┓\n",
       "┃<span style=\"font-weight: bold\"> Layer (type)                         </span>┃<span style=\"font-weight: bold\"> Output Shape                </span>┃<span style=\"font-weight: bold\">         Param # </span>┃\n",
       "┡━━━━━━━━━━━━━━━━━━━━━━━━━━━━━━━━━━━━━━╇━━━━━━━━━━━━━━━━━━━━━━━━━━━━━╇━━━━━━━━━━━━━━━━━┩\n",
       "│ dense (<span style=\"color: #0087ff; text-decoration-color: #0087ff\">Dense</span>)                        │ (<span style=\"color: #00d7ff; text-decoration-color: #00d7ff\">None</span>, <span style=\"color: #00af00; text-decoration-color: #00af00\">64</span>)                  │             <span style=\"color: #00af00; text-decoration-color: #00af00\">960</span> │\n",
       "├──────────────────────────────────────┼─────────────────────────────┼─────────────────┤\n",
       "│ dense_1 (<span style=\"color: #0087ff; text-decoration-color: #0087ff\">Dense</span>)                      │ (<span style=\"color: #00d7ff; text-decoration-color: #00d7ff\">None</span>, <span style=\"color: #00af00; text-decoration-color: #00af00\">64</span>)                  │           <span style=\"color: #00af00; text-decoration-color: #00af00\">4,160</span> │\n",
       "├──────────────────────────────────────┼─────────────────────────────┼─────────────────┤\n",
       "│ dense_2 (<span style=\"color: #0087ff; text-decoration-color: #0087ff\">Dense</span>)                      │ (<span style=\"color: #00d7ff; text-decoration-color: #00d7ff\">None</span>, <span style=\"color: #00af00; text-decoration-color: #00af00\">1</span>)                   │              <span style=\"color: #00af00; text-decoration-color: #00af00\">65</span> │\n",
       "└──────────────────────────────────────┴─────────────────────────────┴─────────────────┘\n",
       "</pre>\n"
      ],
      "text/plain": [
       "┏━━━━━━━━━━━━━━━━━━━━━━━━━━━━━━━━━━━━━━┳━━━━━━━━━━━━━━━━━━━━━━━━━━━━━┳━━━━━━━━━━━━━━━━━┓\n",
       "┃\u001b[1m \u001b[0m\u001b[1mLayer (type)                        \u001b[0m\u001b[1m \u001b[0m┃\u001b[1m \u001b[0m\u001b[1mOutput Shape               \u001b[0m\u001b[1m \u001b[0m┃\u001b[1m \u001b[0m\u001b[1m        Param #\u001b[0m\u001b[1m \u001b[0m┃\n",
       "┡━━━━━━━━━━━━━━━━━━━━━━━━━━━━━━━━━━━━━━╇━━━━━━━━━━━━━━━━━━━━━━━━━━━━━╇━━━━━━━━━━━━━━━━━┩\n",
       "│ dense (\u001b[38;5;33mDense\u001b[0m)                        │ (\u001b[38;5;45mNone\u001b[0m, \u001b[38;5;34m64\u001b[0m)                  │             \u001b[38;5;34m960\u001b[0m │\n",
       "├──────────────────────────────────────┼─────────────────────────────┼─────────────────┤\n",
       "│ dense_1 (\u001b[38;5;33mDense\u001b[0m)                      │ (\u001b[38;5;45mNone\u001b[0m, \u001b[38;5;34m64\u001b[0m)                  │           \u001b[38;5;34m4,160\u001b[0m │\n",
       "├──────────────────────────────────────┼─────────────────────────────┼─────────────────┤\n",
       "│ dense_2 (\u001b[38;5;33mDense\u001b[0m)                      │ (\u001b[38;5;45mNone\u001b[0m, \u001b[38;5;34m1\u001b[0m)                   │              \u001b[38;5;34m65\u001b[0m │\n",
       "└──────────────────────────────────────┴─────────────────────────────┴─────────────────┘\n"
      ]
     },
     "metadata": {},
     "output_type": "display_data"
    },
    {
     "data": {
      "text/html": [
       "<pre style=\"white-space:pre;overflow-x:auto;line-height:normal;font-family:Menlo,'DejaVu Sans Mono',consolas,'Courier New',monospace\"><span style=\"font-weight: bold\"> Total params: </span><span style=\"color: #00af00; text-decoration-color: #00af00\">5,185</span> (20.25 KB)\n",
       "</pre>\n"
      ],
      "text/plain": [
       "\u001b[1m Total params: \u001b[0m\u001b[38;5;34m5,185\u001b[0m (20.25 KB)\n"
      ]
     },
     "metadata": {},
     "output_type": "display_data"
    },
    {
     "data": {
      "text/html": [
       "<pre style=\"white-space:pre;overflow-x:auto;line-height:normal;font-family:Menlo,'DejaVu Sans Mono',consolas,'Courier New',monospace\"><span style=\"font-weight: bold\"> Trainable params: </span><span style=\"color: #00af00; text-decoration-color: #00af00\">5,185</span> (20.25 KB)\n",
       "</pre>\n"
      ],
      "text/plain": [
       "\u001b[1m Trainable params: \u001b[0m\u001b[38;5;34m5,185\u001b[0m (20.25 KB)\n"
      ]
     },
     "metadata": {},
     "output_type": "display_data"
    },
    {
     "data": {
      "text/html": [
       "<pre style=\"white-space:pre;overflow-x:auto;line-height:normal;font-family:Menlo,'DejaVu Sans Mono',consolas,'Courier New',monospace\"><span style=\"font-weight: bold\"> Non-trainable params: </span><span style=\"color: #00af00; text-decoration-color: #00af00\">0</span> (0.00 B)\n",
       "</pre>\n"
      ],
      "text/plain": [
       "\u001b[1m Non-trainable params: \u001b[0m\u001b[38;5;34m0\u001b[0m (0.00 B)\n"
      ]
     },
     "metadata": {},
     "output_type": "display_data"
    }
   ],
   "source": [
    "model.summary()"
   ]
  },
  {
   "cell_type": "markdown",
   "id": "5df28f5b-be8c-48b5-8c86-ba0ad536cd99",
   "metadata": {},
   "source": [
    "Train the model\n"
   ]
  },
  {
   "cell_type": "code",
   "execution_count": 66,
   "id": "ee16ce7d-7764-42d8-a1d9-85261a64812a",
   "metadata": {},
   "outputs": [
    {
     "name": "stdout",
     "output_type": "stream",
     "text": [
      "Epoch 1/100\n",
      "\u001b[1m1/1\u001b[0m \u001b[32m━━━━━━━━━━━━━━━━━━━━\u001b[0m\u001b[37m\u001b[0m \u001b[1m1s\u001b[0m 906ms/step - loss: 290.1467 - mae: 16.6247 - val_loss: 180.7569 - val_mae: 13.1594\n",
      "Epoch 2/100\n",
      "\u001b[1m1/1\u001b[0m \u001b[32m━━━━━━━━━━━━━━━━━━━━\u001b[0m\u001b[37m\u001b[0m \u001b[1m0s\u001b[0m 114ms/step - loss: 286.2738 - mae: 16.5127 - val_loss: 178.8676 - val_mae: 13.0921\n",
      "Epoch 3/100\n",
      "\u001b[1m1/1\u001b[0m \u001b[32m━━━━━━━━━━━━━━━━━━━━\u001b[0m\u001b[37m\u001b[0m \u001b[1m0s\u001b[0m 92ms/step - loss: 282.4177 - mae: 16.4006 - val_loss: 176.9568 - val_mae: 13.0236\n",
      "Epoch 4/100\n",
      "\u001b[1m1/1\u001b[0m \u001b[32m━━━━━━━━━━━━━━━━━━━━\u001b[0m\u001b[37m\u001b[0m \u001b[1m0s\u001b[0m 82ms/step - loss: 278.7003 - mae: 16.2922 - val_loss: 175.0969 - val_mae: 12.9563\n",
      "Epoch 5/100\n",
      "\u001b[1m1/1\u001b[0m \u001b[32m━━━━━━━━━━━━━━━━━━━━\u001b[0m\u001b[37m\u001b[0m \u001b[1m0s\u001b[0m 95ms/step - loss: 275.0515 - mae: 16.1851 - val_loss: 173.2267 - val_mae: 12.8880\n",
      "Epoch 6/100\n",
      "\u001b[1m1/1\u001b[0m \u001b[32m━━━━━━━━━━━━━━━━━━━━\u001b[0m\u001b[37m\u001b[0m \u001b[1m0s\u001b[0m 98ms/step - loss: 271.5332 - mae: 16.0808 - val_loss: 171.3652 - val_mae: 12.8197\n",
      "Epoch 7/100\n",
      "\u001b[1m1/1\u001b[0m \u001b[32m━━━━━━━━━━━━━━━━━━━━\u001b[0m\u001b[37m\u001b[0m \u001b[1m0s\u001b[0m 103ms/step - loss: 268.0909 - mae: 15.9778 - val_loss: 169.4701 - val_mae: 12.7500\n",
      "Epoch 8/100\n",
      "\u001b[1m1/1\u001b[0m \u001b[32m━━━━━━━━━━━━━━━━━━━━\u001b[0m\u001b[37m\u001b[0m \u001b[1m0s\u001b[0m 89ms/step - loss: 264.7780 - mae: 15.8782 - val_loss: 167.5889 - val_mae: 12.6806\n",
      "Epoch 9/100\n",
      "\u001b[1m1/1\u001b[0m \u001b[32m━━━━━━━━━━━━━━━━━━━━\u001b[0m\u001b[37m\u001b[0m \u001b[1m0s\u001b[0m 89ms/step - loss: 261.4857 - mae: 15.7789 - val_loss: 165.6463 - val_mae: 12.6089\n",
      "Epoch 10/100\n",
      "\u001b[1m1/1\u001b[0m \u001b[32m━━━━━━━━━━━━━━━━━━━━\u001b[0m\u001b[37m\u001b[0m \u001b[1m0s\u001b[0m 81ms/step - loss: 258.2134 - mae: 15.6795 - val_loss: 163.6960 - val_mae: 12.5364\n",
      "Epoch 11/100\n",
      "\u001b[1m1/1\u001b[0m \u001b[32m━━━━━━━━━━━━━━━━━━━━\u001b[0m\u001b[37m\u001b[0m \u001b[1m0s\u001b[0m 93ms/step - loss: 255.0049 - mae: 15.5808 - val_loss: 161.7320 - val_mae: 12.4629\n",
      "Epoch 12/100\n",
      "\u001b[1m1/1\u001b[0m \u001b[32m━━━━━━━━━━━━━━━━━━━━\u001b[0m\u001b[37m\u001b[0m \u001b[1m0s\u001b[0m 84ms/step - loss: 251.6818 - mae: 15.4783 - val_loss: 159.7430 - val_mae: 12.3876\n",
      "Epoch 13/100\n",
      "\u001b[1m1/1\u001b[0m \u001b[32m━━━━━━━━━━━━━━━━━━━━\u001b[0m\u001b[37m\u001b[0m \u001b[1m0s\u001b[0m 90ms/step - loss: 248.3178 - mae: 15.3739 - val_loss: 157.7442 - val_mae: 12.3114\n",
      "Epoch 14/100\n",
      "\u001b[1m1/1\u001b[0m \u001b[32m━━━━━━━━━━━━━━━━━━━━\u001b[0m\u001b[37m\u001b[0m \u001b[1m0s\u001b[0m 91ms/step - loss: 244.9575 - mae: 15.2686 - val_loss: 155.7355 - val_mae: 12.2343\n",
      "Epoch 15/100\n",
      "\u001b[1m1/1\u001b[0m \u001b[32m━━━━━━━━━━━━━━━━━━━━\u001b[0m\u001b[37m\u001b[0m \u001b[1m0s\u001b[0m 86ms/step - loss: 241.5686 - mae: 15.1614 - val_loss: 153.7485 - val_mae: 12.1570\n",
      "Epoch 16/100\n",
      "\u001b[1m1/1\u001b[0m \u001b[32m━━━━━━━━━━━━━━━━━━━━\u001b[0m\u001b[37m\u001b[0m \u001b[1m0s\u001b[0m 93ms/step - loss: 238.1567 - mae: 15.0529 - val_loss: 151.7399 - val_mae: 12.0780\n",
      "Epoch 17/100\n",
      "\u001b[1m1/1\u001b[0m \u001b[32m━━━━━━━━━━━━━━━━━━━━\u001b[0m\u001b[37m\u001b[0m \u001b[1m0s\u001b[0m 91ms/step - loss: 234.7475 - mae: 14.9436 - val_loss: 149.7220 - val_mae: 11.9982\n",
      "Epoch 18/100\n",
      "\u001b[1m1/1\u001b[0m \u001b[32m━━━━━━━━━━━━━━━━━━━━\u001b[0m\u001b[37m\u001b[0m \u001b[1m0s\u001b[0m 89ms/step - loss: 231.2892 - mae: 14.8319 - val_loss: 147.6379 - val_mae: 11.9151\n",
      "Epoch 19/100\n",
      "\u001b[1m1/1\u001b[0m \u001b[32m━━━━━━━━━━━━━━━━━━━━\u001b[0m\u001b[37m\u001b[0m \u001b[1m0s\u001b[0m 89ms/step - loss: 227.7763 - mae: 14.7173 - val_loss: 145.4807 - val_mae: 11.8289\n",
      "Epoch 20/100\n",
      "\u001b[1m1/1\u001b[0m \u001b[32m━━━━━━━━━━━━━━━━━━━━\u001b[0m\u001b[37m\u001b[0m \u001b[1m0s\u001b[0m 85ms/step - loss: 224.2244 - mae: 14.6005 - val_loss: 143.3130 - val_mae: 11.7417\n",
      "Epoch 21/100\n",
      "\u001b[1m1/1\u001b[0m \u001b[32m━━━━━━━━━━━━━━━━━━━━\u001b[0m\u001b[37m\u001b[0m \u001b[1m0s\u001b[0m 87ms/step - loss: 220.6241 - mae: 14.4813 - val_loss: 141.1372 - val_mae: 11.6537\n",
      "Epoch 22/100\n",
      "\u001b[1m1/1\u001b[0m \u001b[32m━━━━━━━━━━━━━━━━━━━━\u001b[0m\u001b[37m\u001b[0m \u001b[1m0s\u001b[0m 90ms/step - loss: 217.0012 - mae: 14.3603 - val_loss: 138.9725 - val_mae: 11.5653\n",
      "Epoch 23/100\n",
      "\u001b[1m1/1\u001b[0m \u001b[32m━━━━━━━━━━━━━━━━━━━━\u001b[0m\u001b[37m\u001b[0m \u001b[1m0s\u001b[0m 87ms/step - loss: 213.3129 - mae: 14.2359 - val_loss: 136.7917 - val_mae: 11.4758\n",
      "Epoch 24/100\n",
      "\u001b[1m1/1\u001b[0m \u001b[32m━━━━━━━━━━━━━━━━━━━━\u001b[0m\u001b[37m\u001b[0m \u001b[1m0s\u001b[0m 84ms/step - loss: 209.5415 - mae: 14.1075 - val_loss: 134.5827 - val_mae: 11.3842\n",
      "Epoch 25/100\n",
      "\u001b[1m1/1\u001b[0m \u001b[32m━━━━━━━━━━━━━━━━━━━━\u001b[0m\u001b[37m\u001b[0m \u001b[1m0s\u001b[0m 122ms/step - loss: 205.6904 - mae: 13.9752 - val_loss: 132.3624 - val_mae: 11.2917\n",
      "Epoch 26/100\n",
      "\u001b[1m1/1\u001b[0m \u001b[32m━━━━━━━━━━━━━━━━━━━━\u001b[0m\u001b[37m\u001b[0m \u001b[1m0s\u001b[0m 90ms/step - loss: 201.7482 - mae: 13.8385 - val_loss: 130.0730 - val_mae: 11.1957\n",
      "Epoch 27/100\n",
      "\u001b[1m1/1\u001b[0m \u001b[32m━━━━━━━━━━━━━━━━━━━━\u001b[0m\u001b[37m\u001b[0m \u001b[1m0s\u001b[0m 86ms/step - loss: 197.7004 - mae: 13.6968 - val_loss: 127.7402 - val_mae: 11.0972\n",
      "Epoch 28/100\n",
      "\u001b[1m1/1\u001b[0m \u001b[32m━━━━━━━━━━━━━━━━━━━━\u001b[0m\u001b[37m\u001b[0m \u001b[1m0s\u001b[0m 86ms/step - loss: 193.5060 - mae: 13.5490 - val_loss: 125.3746 - val_mae: 10.9966\n",
      "Epoch 29/100\n",
      "\u001b[1m1/1\u001b[0m \u001b[32m━━━━━━━━━━━━━━━━━━━━\u001b[0m\u001b[37m\u001b[0m \u001b[1m0s\u001b[0m 86ms/step - loss: 189.1901 - mae: 13.3956 - val_loss: 122.9702 - val_mae: 10.8937\n",
      "Epoch 30/100\n",
      "\u001b[1m1/1\u001b[0m \u001b[32m━━━━━━━━━━━━━━━━━━━━\u001b[0m\u001b[37m\u001b[0m \u001b[1m0s\u001b[0m 88ms/step - loss: 184.7385 - mae: 13.2359 - val_loss: 120.5313 - val_mae: 10.7885\n",
      "Epoch 31/100\n",
      "\u001b[1m1/1\u001b[0m \u001b[32m━━━━━━━━━━━━━━━━━━━━\u001b[0m\u001b[37m\u001b[0m \u001b[1m0s\u001b[0m 83ms/step - loss: 180.1031 - mae: 13.0678 - val_loss: 118.0562 - val_mae: 10.6806\n",
      "Epoch 32/100\n",
      "\u001b[1m1/1\u001b[0m \u001b[32m━━━━━━━━━━━━━━━━━━━━\u001b[0m\u001b[37m\u001b[0m \u001b[1m0s\u001b[0m 80ms/step - loss: 175.3063 - mae: 12.8916 - val_loss: 115.5462 - val_mae: 10.5699\n",
      "Epoch 33/100\n",
      "\u001b[1m1/1\u001b[0m \u001b[32m━━━━━━━━━━━━━━━━━━━━\u001b[0m\u001b[37m\u001b[0m \u001b[1m0s\u001b[0m 77ms/step - loss: 170.3386 - mae: 12.7070 - val_loss: 113.0082 - val_mae: 10.4569\n",
      "Epoch 34/100\n",
      "\u001b[1m1/1\u001b[0m \u001b[32m━━━━━━━━━━━━━━━━━━━━\u001b[0m\u001b[37m\u001b[0m \u001b[1m0s\u001b[0m 76ms/step - loss: 165.2428 - mae: 12.5147 - val_loss: 110.4453 - val_mae: 10.3416\n",
      "Epoch 35/100\n",
      "\u001b[1m1/1\u001b[0m \u001b[32m━━━━━━━━━━━━━━━━━━━━\u001b[0m\u001b[37m\u001b[0m \u001b[1m0s\u001b[0m 75ms/step - loss: 160.0383 - mae: 12.3152 - val_loss: 107.8179 - val_mae: 10.2217\n",
      "Epoch 36/100\n",
      "\u001b[1m1/1\u001b[0m \u001b[32m━━━━━━━━━━━━━━━━━━━━\u001b[0m\u001b[37m\u001b[0m \u001b[1m0s\u001b[0m 75ms/step - loss: 154.6905 - mae: 12.1066 - val_loss: 105.1590 - val_mae: 10.0988\n",
      "Epoch 37/100\n",
      "\u001b[1m1/1\u001b[0m \u001b[32m━━━━━━━━━━━━━━━━━━━━\u001b[0m\u001b[37m\u001b[0m \u001b[1m0s\u001b[0m 73ms/step - loss: 149.2344 - mae: 11.8898 - val_loss: 102.4831 - val_mae: 9.9738\n",
      "Epoch 38/100\n",
      "\u001b[1m1/1\u001b[0m \u001b[32m━━━━━━━━━━━━━━━━━━━━\u001b[0m\u001b[37m\u001b[0m \u001b[1m0s\u001b[0m 74ms/step - loss: 143.6989 - mae: 11.6658 - val_loss: 99.7805 - val_mae: 9.8461\n",
      "Epoch 39/100\n",
      "\u001b[1m1/1\u001b[0m \u001b[32m━━━━━━━━━━━━━━━━━━━━\u001b[0m\u001b[37m\u001b[0m \u001b[1m0s\u001b[0m 77ms/step - loss: 138.1026 - mae: 11.4348 - val_loss: 97.0479 - val_mae: 9.7153\n",
      "Epoch 40/100\n",
      "\u001b[1m1/1\u001b[0m \u001b[32m━━━━━━━━━━━━━━━━━━━━\u001b[0m\u001b[37m\u001b[0m \u001b[1m0s\u001b[0m 72ms/step - loss: 132.4451 - mae: 11.1961 - val_loss: 94.3050 - val_mae: 9.5823\n",
      "Epoch 41/100\n",
      "\u001b[1m1/1\u001b[0m \u001b[32m━━━━━━━━━━━━━━━━━━━━\u001b[0m\u001b[37m\u001b[0m \u001b[1m0s\u001b[0m 81ms/step - loss: 126.7228 - mae: 10.9492 - val_loss: 91.5629 - val_mae: 9.4475\n",
      "Epoch 42/100\n",
      "\u001b[1m1/1\u001b[0m \u001b[32m━━━━━━━━━━━━━━━━━━━━\u001b[0m\u001b[37m\u001b[0m \u001b[1m0s\u001b[0m 95ms/step - loss: 120.9428 - mae: 10.6937 - val_loss: 88.8029 - val_mae: 9.3099\n",
      "Epoch 43/100\n",
      "\u001b[1m1/1\u001b[0m \u001b[32m━━━━━━━━━━━━━━━━━━━━\u001b[0m\u001b[37m\u001b[0m \u001b[1m0s\u001b[0m 81ms/step - loss: 115.1184 - mae: 10.4300 - val_loss: 86.0182 - val_mae: 9.1689\n",
      "Epoch 44/100\n",
      "\u001b[1m1/1\u001b[0m \u001b[32m━━━━━━━━━━━━━━━━━━━━\u001b[0m\u001b[37m\u001b[0m \u001b[1m0s\u001b[0m 74ms/step - loss: 109.2582 - mae: 10.1576 - val_loss: 83.2341 - val_mae: 9.0258\n",
      "Epoch 45/100\n",
      "\u001b[1m1/1\u001b[0m \u001b[32m━━━━━━━━━━━━━━━━━━━━\u001b[0m\u001b[37m\u001b[0m \u001b[1m0s\u001b[0m 73ms/step - loss: 103.3503 - mae: 9.8754 - val_loss: 80.4528 - val_mae: 8.8803\n",
      "Epoch 46/100\n",
      "\u001b[1m1/1\u001b[0m \u001b[32m━━━━━━━━━━━━━━━━━━━━\u001b[0m\u001b[37m\u001b[0m \u001b[1m0s\u001b[0m 75ms/step - loss: 97.4182 - mae: 9.5831 - val_loss: 77.6715 - val_mae: 8.7323\n",
      "Epoch 47/100\n",
      "\u001b[1m1/1\u001b[0m \u001b[32m━━━━━━━━━━━━━━━━━━━━\u001b[0m\u001b[37m\u001b[0m \u001b[1m0s\u001b[0m 75ms/step - loss: 91.4877 - mae: 9.2818 - val_loss: 74.8943 - val_mae: 8.5816\n",
      "Epoch 48/100\n",
      "\u001b[1m1/1\u001b[0m \u001b[32m━━━━━━━━━━━━━━━━━━━━\u001b[0m\u001b[37m\u001b[0m \u001b[1m0s\u001b[0m 77ms/step - loss: 85.6020 - mae: 8.9724 - val_loss: 72.1392 - val_mae: 8.4292\n",
      "Epoch 49/100\n",
      "\u001b[1m1/1\u001b[0m \u001b[32m━━━━━━━━━━━━━━━━━━━━\u001b[0m\u001b[37m\u001b[0m \u001b[1m0s\u001b[0m 79ms/step - loss: 79.7783 - mae: 8.6551 - val_loss: 69.3976 - val_mae: 8.2744\n",
      "Epoch 50/100\n",
      "\u001b[1m1/1\u001b[0m \u001b[32m━━━━━━━━━━━━━━━━━━━━\u001b[0m\u001b[37m\u001b[0m \u001b[1m0s\u001b[0m 75ms/step - loss: 74.0067 - mae: 8.3286 - val_loss: 66.6834 - val_mae: 8.1179\n",
      "Epoch 51/100\n",
      "\u001b[1m1/1\u001b[0m \u001b[32m━━━━━━━━━━━━━━━━━━━━\u001b[0m\u001b[37m\u001b[0m \u001b[1m0s\u001b[0m 76ms/step - loss: 68.3155 - mae: 7.9934 - val_loss: 64.0045 - val_mae: 7.9600\n",
      "Epoch 52/100\n",
      "\u001b[1m1/1\u001b[0m \u001b[32m━━━━━━━━━━━━━━━━━━━━\u001b[0m\u001b[37m\u001b[0m \u001b[1m0s\u001b[0m 75ms/step - loss: 62.7294 - mae: 7.6494 - val_loss: 61.3673 - val_mae: 7.8009\n",
      "Epoch 53/100\n",
      "\u001b[1m1/1\u001b[0m \u001b[32m━━━━━━━━━━━━━━━━━━━━\u001b[0m\u001b[37m\u001b[0m \u001b[1m0s\u001b[0m 102ms/step - loss: 57.2903 - mae: 7.2984 - val_loss: 58.7857 - val_mae: 7.6413\n",
      "Epoch 54/100\n",
      "\u001b[1m1/1\u001b[0m \u001b[32m━━━━━━━━━━━━━━━━━━━━\u001b[0m\u001b[37m\u001b[0m \u001b[1m0s\u001b[0m 74ms/step - loss: 52.0162 - mae: 6.9406 - val_loss: 56.2552 - val_mae: 7.4809\n",
      "Epoch 55/100\n",
      "\u001b[1m1/1\u001b[0m \u001b[32m━━━━━━━━━━━━━━━━━━━━\u001b[0m\u001b[37m\u001b[0m \u001b[1m0s\u001b[0m 79ms/step - loss: 46.9189 - mae: 6.5759 - val_loss: 53.7773 - val_mae: 7.3196\n",
      "Epoch 56/100\n",
      "\u001b[1m1/1\u001b[0m \u001b[32m━━━━━━━━━━━━━━━━━━━━\u001b[0m\u001b[37m\u001b[0m \u001b[1m0s\u001b[0m 75ms/step - loss: 41.9926 - mae: 6.2021 - val_loss: 51.3542 - val_mae: 7.1574\n",
      "Epoch 57/100\n",
      "\u001b[1m1/1\u001b[0m \u001b[32m━━━━━━━━━━━━━━━━━━━━\u001b[0m\u001b[37m\u001b[0m \u001b[1m0s\u001b[0m 75ms/step - loss: 37.2727 - mae: 5.8212 - val_loss: 48.9950 - val_mae: 6.9949\n",
      "Epoch 58/100\n",
      "\u001b[1m1/1\u001b[0m \u001b[32m━━━━━━━━━━━━━━━━━━━━\u001b[0m\u001b[37m\u001b[0m \u001b[1m0s\u001b[0m 79ms/step - loss: 32.7947 - mae: 5.4347 - val_loss: 46.7023 - val_mae: 6.8320\n",
      "Epoch 59/100\n",
      "\u001b[1m1/1\u001b[0m \u001b[32m━━━━━━━━━━━━━━━━━━━━\u001b[0m\u001b[37m\u001b[0m \u001b[1m0s\u001b[0m 76ms/step - loss: 28.5976 - mae: 5.0448 - val_loss: 44.4892 - val_mae: 6.6697\n",
      "Epoch 60/100\n",
      "\u001b[1m1/1\u001b[0m \u001b[32m━━━━━━━━━━━━━━━━━━━━\u001b[0m\u001b[37m\u001b[0m \u001b[1m0s\u001b[0m 74ms/step - loss: 24.6977 - mae: 4.6521 - val_loss: 42.3617 - val_mae: 6.5085\n",
      "Epoch 61/100\n",
      "\u001b[1m1/1\u001b[0m \u001b[32m━━━━━━━━━━━━━━━━━━━━\u001b[0m\u001b[37m\u001b[0m \u001b[1m0s\u001b[0m 83ms/step - loss: 21.1082 - mae: 4.2572 - val_loss: 40.3257 - val_mae: 6.3487\n",
      "Epoch 62/100\n",
      "\u001b[1m1/1\u001b[0m \u001b[32m━━━━━━━━━━━━━━━━━━━━\u001b[0m\u001b[37m\u001b[0m \u001b[1m0s\u001b[0m 81ms/step - loss: 17.8236 - mae: 3.8590 - val_loss: 38.3866 - val_mae: 6.1910\n",
      "Epoch 63/100\n",
      "\u001b[1m1/1\u001b[0m \u001b[32m━━━━━━━━━━━━━━━━━━━━\u001b[0m\u001b[37m\u001b[0m \u001b[1m0s\u001b[0m 79ms/step - loss: 14.8845 - mae: 3.4624 - val_loss: 36.5502 - val_mae: 6.0359\n",
      "Epoch 64/100\n",
      "\u001b[1m1/1\u001b[0m \u001b[32m━━━━━━━━━━━━━━━━━━━━\u001b[0m\u001b[37m\u001b[0m \u001b[1m0s\u001b[0m 75ms/step - loss: 12.2975 - mae: 3.0694 - val_loss: 34.8212 - val_mae: 5.8842\n",
      "Epoch 65/100\n",
      "\u001b[1m1/1\u001b[0m \u001b[32m━━━━━━━━━━━━━━━━━━━━\u001b[0m\u001b[37m\u001b[0m \u001b[1m0s\u001b[0m 94ms/step - loss: 10.0629 - mae: 2.6818 - val_loss: 33.2034 - val_mae: 5.7365\n",
      "Epoch 66/100\n",
      "\u001b[1m1/1\u001b[0m \u001b[32m━━━━━━━━━━━━━━━━━━━━\u001b[0m\u001b[37m\u001b[0m \u001b[1m0s\u001b[0m 86ms/step - loss: 8.1707 - mae: 2.3010 - val_loss: 31.6969 - val_mae: 5.5932\n",
      "Epoch 67/100\n",
      "\u001b[1m1/1\u001b[0m \u001b[32m━━━━━━━━━━━━━━━━━━━━\u001b[0m\u001b[37m\u001b[0m \u001b[1m0s\u001b[0m 78ms/step - loss: 6.6066 - mae: 2.0662 - val_loss: 30.3071 - val_mae: 5.4554\n",
      "Epoch 68/100\n",
      "\u001b[1m1/1\u001b[0m \u001b[32m━━━━━━━━━━━━━━━━━━━━\u001b[0m\u001b[37m\u001b[0m \u001b[1m0s\u001b[0m 80ms/step - loss: 5.3515 - mae: 1.8651 - val_loss: 29.0338 - val_mae: 5.3236\n",
      "Epoch 69/100\n",
      "\u001b[1m1/1\u001b[0m \u001b[32m━━━━━━━━━━━━━━━━━━━━\u001b[0m\u001b[37m\u001b[0m \u001b[1m0s\u001b[0m 73ms/step - loss: 4.3816 - mae: 1.7315 - val_loss: 27.8745 - val_mae: 5.1983\n",
      "Epoch 70/100\n",
      "\u001b[1m1/1\u001b[0m \u001b[32m━━━━━━━━━━━━━━━━━━━━\u001b[0m\u001b[37m\u001b[0m \u001b[1m0s\u001b[0m 76ms/step - loss: 3.6852 - mae: 1.6304 - val_loss: 26.8304 - val_mae: 5.0805\n",
      "Epoch 71/100\n",
      "\u001b[1m1/1\u001b[0m \u001b[32m━━━━━━━━━━━━━━━━━━━━\u001b[0m\u001b[37m\u001b[0m \u001b[1m0s\u001b[0m 75ms/step - loss: 3.2310 - mae: 1.5319 - val_loss: 25.9003 - val_mae: 4.9710\n",
      "Epoch 72/100\n",
      "\u001b[1m1/1\u001b[0m \u001b[32m━━━━━━━━━━━━━━━━━━━━\u001b[0m\u001b[37m\u001b[0m \u001b[1m0s\u001b[0m 75ms/step - loss: 2.9772 - mae: 1.4357 - val_loss: 25.0668 - val_mae: 4.8693\n",
      "Epoch 73/100\n",
      "\u001b[1m1/1\u001b[0m \u001b[32m━━━━━━━━━━━━━━━━━━━━\u001b[0m\u001b[37m\u001b[0m \u001b[1m0s\u001b[0m 76ms/step - loss: 2.8816 - mae: 1.3735 - val_loss: 24.3396 - val_mae: 4.7772\n",
      "Epoch 74/100\n",
      "\u001b[1m1/1\u001b[0m \u001b[32m━━━━━━━━━━━━━━━━━━━━\u001b[0m\u001b[37m\u001b[0m \u001b[1m0s\u001b[0m 75ms/step - loss: 2.9013 - mae: 1.3429 - val_loss: 23.7133 - val_mae: 4.6949\n",
      "Epoch 75/100\n",
      "\u001b[1m1/1\u001b[0m \u001b[32m━━━━━━━━━━━━━━━━━━━━\u001b[0m\u001b[37m\u001b[0m \u001b[1m0s\u001b[0m 95ms/step - loss: 2.9954 - mae: 1.3117 - val_loss: 23.1875 - val_mae: 4.6232\n",
      "Epoch 76/100\n",
      "\u001b[1m1/1\u001b[0m \u001b[32m━━━━━━━━━━━━━━━━━━━━\u001b[0m\u001b[37m\u001b[0m \u001b[1m0s\u001b[0m 80ms/step - loss: 3.1263 - mae: 1.3321 - val_loss: 22.7522 - val_mae: 4.5620\n",
      "Epoch 77/100\n",
      "\u001b[1m1/1\u001b[0m \u001b[32m━━━━━━━━━━━━━━━━━━━━\u001b[0m\u001b[37m\u001b[0m \u001b[1m0s\u001b[0m 84ms/step - loss: 3.2638 - mae: 1.3475 - val_loss: 22.4053 - val_mae: 4.5114\n",
      "Epoch 78/100\n",
      "\u001b[1m1/1\u001b[0m \u001b[32m━━━━━━━━━━━━━━━━━━━━\u001b[0m\u001b[37m\u001b[0m \u001b[1m0s\u001b[0m 81ms/step - loss: 3.3822 - mae: 1.3490 - val_loss: 22.1405 - val_mae: 4.4713\n",
      "Epoch 79/100\n",
      "\u001b[1m1/1\u001b[0m \u001b[32m━━━━━━━━━━━━━━━━━━━━\u001b[0m\u001b[37m\u001b[0m \u001b[1m0s\u001b[0m 76ms/step - loss: 3.4673 - mae: 1.3611 - val_loss: 21.9507 - val_mae: 4.4413\n",
      "Epoch 80/100\n",
      "\u001b[1m1/1\u001b[0m \u001b[32m━━━━━━━━━━━━━━━━━━━━\u001b[0m\u001b[37m\u001b[0m \u001b[1m0s\u001b[0m 76ms/step - loss: 3.5054 - mae: 1.3813 - val_loss: 21.8293 - val_mae: 4.4208\n",
      "Epoch 81/100\n",
      "\u001b[1m1/1\u001b[0m \u001b[32m━━━━━━━━━━━━━━━━━━━━\u001b[0m\u001b[37m\u001b[0m \u001b[1m0s\u001b[0m 77ms/step - loss: 3.4900 - mae: 1.3833 - val_loss: 21.7696 - val_mae: 4.4091\n",
      "Epoch 82/100\n",
      "\u001b[1m1/1\u001b[0m \u001b[32m━━━━━━━━━━━━━━━━━━━━\u001b[0m\u001b[37m\u001b[0m \u001b[1m0s\u001b[0m 75ms/step - loss: 3.4212 - mae: 1.3685 - val_loss: 21.7607 - val_mae: 4.4050\n",
      "Epoch 83/100\n",
      "\u001b[1m1/1\u001b[0m \u001b[32m━━━━━━━━━━━━━━━━━━━━\u001b[0m\u001b[37m\u001b[0m \u001b[1m0s\u001b[0m 80ms/step - loss: 3.3052 - mae: 1.3388 - val_loss: 21.7983 - val_mae: 4.4078\n",
      "Epoch 84/100\n",
      "\u001b[1m1/1\u001b[0m \u001b[32m━━━━━━━━━━━━━━━━━━━━\u001b[0m\u001b[37m\u001b[0m \u001b[1m0s\u001b[0m 77ms/step - loss: 3.1625 - mae: 1.2981 - val_loss: 21.8773 - val_mae: 4.4168\n",
      "Epoch 85/100\n",
      "\u001b[1m1/1\u001b[0m \u001b[32m━━━━━━━━━━━━━━━━━━━━\u001b[0m\u001b[37m\u001b[0m \u001b[1m0s\u001b[0m 76ms/step - loss: 2.9880 - mae: 1.2463 - val_loss: 21.9922 - val_mae: 4.4310\n",
      "Epoch 86/100\n",
      "\u001b[1m1/1\u001b[0m \u001b[32m━━━━━━━━━━━━━━━━━━━━\u001b[0m\u001b[37m\u001b[0m \u001b[1m0s\u001b[0m 97ms/step - loss: 2.7914 - mae: 1.1864 - val_loss: 22.1333 - val_mae: 4.4493\n",
      "Epoch 87/100\n",
      "\u001b[1m1/1\u001b[0m \u001b[32m━━━━━━━━━━━━━━━━━━━━\u001b[0m\u001b[37m\u001b[0m \u001b[1m0s\u001b[0m 82ms/step - loss: 2.5818 - mae: 1.1631 - val_loss: 22.2881 - val_mae: 4.4703\n",
      "Epoch 88/100\n",
      "\u001b[1m1/1\u001b[0m \u001b[32m━━━━━━━━━━━━━━━━━━━━\u001b[0m\u001b[37m\u001b[0m \u001b[1m0s\u001b[0m 77ms/step - loss: 2.3690 - mae: 1.1380 - val_loss: 22.4635 - val_mae: 4.4941\n",
      "Epoch 89/100\n",
      "\u001b[1m1/1\u001b[0m \u001b[32m━━━━━━━━━━━━━━━━━━━━\u001b[0m\u001b[37m\u001b[0m \u001b[1m0s\u001b[0m 76ms/step - loss: 2.1624 - mae: 1.1111 - val_loss: 22.6552 - val_mae: 4.5202\n",
      "Epoch 90/100\n",
      "\u001b[1m1/1\u001b[0m \u001b[32m━━━━━━━━━━━━━━━━━━━━\u001b[0m\u001b[37m\u001b[0m \u001b[1m0s\u001b[0m 73ms/step - loss: 1.9671 - mae: 1.0824 - val_loss: 22.8594 - val_mae: 4.5477\n",
      "Epoch 91/100\n",
      "\u001b[1m1/1\u001b[0m \u001b[32m━━━━━━━━━━━━━━━━━━━━\u001b[0m\u001b[37m\u001b[0m \u001b[1m0s\u001b[0m 83ms/step - loss: 1.7879 - mae: 1.0522 - val_loss: 23.0720 - val_mae: 4.5763\n",
      "Epoch 92/100\n",
      "\u001b[1m1/1\u001b[0m \u001b[32m━━━━━━━━━━━━━━━━━━━━\u001b[0m\u001b[37m\u001b[0m \u001b[1m0s\u001b[0m 76ms/step - loss: 1.6286 - mae: 1.0210 - val_loss: 23.2892 - val_mae: 4.6051\n",
      "Epoch 93/100\n",
      "\u001b[1m1/1\u001b[0m \u001b[32m━━━━━━━━━━━━━━━━━━━━\u001b[0m\u001b[37m\u001b[0m \u001b[1m0s\u001b[0m 75ms/step - loss: 1.4912 - mae: 0.9892 - val_loss: 23.5075 - val_mae: 4.6338\n",
      "Epoch 94/100\n",
      "\u001b[1m1/1\u001b[0m \u001b[32m━━━━━━━━━━━━━━━━━━━━\u001b[0m\u001b[37m\u001b[0m \u001b[1m0s\u001b[0m 79ms/step - loss: 1.3764 - mae: 0.9572 - val_loss: 23.7239 - val_mae: 4.6620\n",
      "Epoch 95/100\n",
      "\u001b[1m1/1\u001b[0m \u001b[32m━━━━━━━━━━━━━━━━━━━━\u001b[0m\u001b[37m\u001b[0m \u001b[1m0s\u001b[0m 75ms/step - loss: 1.2827 - mae: 0.9250 - val_loss: 23.9350 - val_mae: 4.6891\n",
      "Epoch 96/100\n",
      "\u001b[1m1/1\u001b[0m \u001b[32m━━━━━━━━━━━━━━━━━━━━\u001b[0m\u001b[37m\u001b[0m \u001b[1m0s\u001b[0m 95ms/step - loss: 1.2095 - mae: 0.8932 - val_loss: 24.1386 - val_mae: 4.7149\n",
      "Epoch 97/100\n",
      "\u001b[1m1/1\u001b[0m \u001b[32m━━━━━━━━━━━━━━━━━━━━\u001b[0m\u001b[37m\u001b[0m \u001b[1m0s\u001b[0m 89ms/step - loss: 1.1570 - mae: 0.8627 - val_loss: 24.3321 - val_mae: 4.7390\n",
      "Epoch 98/100\n",
      "\u001b[1m1/1\u001b[0m \u001b[32m━━━━━━━━━━━━━━━━━━━━\u001b[0m\u001b[37m\u001b[0m \u001b[1m0s\u001b[0m 77ms/step - loss: 1.1222 - mae: 0.8337 - val_loss: 24.5134 - val_mae: 4.7613\n",
      "Epoch 99/100\n",
      "\u001b[1m1/1\u001b[0m \u001b[32m━━━━━━━━━━━━━━━━━━━━\u001b[0m\u001b[37m\u001b[0m \u001b[1m0s\u001b[0m 80ms/step - loss: 1.1001 - mae: 0.8059 - val_loss: 24.6809 - val_mae: 4.7817\n",
      "Epoch 100/100\n",
      "\u001b[1m1/1\u001b[0m \u001b[32m━━━━━━━━━━━━━━━━━━━━\u001b[0m\u001b[37m\u001b[0m \u001b[1m0s\u001b[0m 89ms/step - loss: 1.0883 - mae: 0.7794 - val_loss: 24.8329 - val_mae: 4.7998\n"
     ]
    }
   ],
   "source": [
    "history = model.fit(x_train, y_train, validation_split=0.2, epochs=100, batch_size=8, verbose=1)"
   ]
  },
  {
   "cell_type": "markdown",
   "id": "c9a4ae35-fcc0-43ca-9a99-c2883fd622fc",
   "metadata": {},
   "source": [
    "Evaluate the model on the test set"
   ]
  },
  {
   "cell_type": "code",
   "execution_count": 68,
   "id": "8c421515-ccf1-42c5-9104-52718702f8b6",
   "metadata": {},
   "outputs": [
    {
     "name": "stdout",
     "output_type": "stream",
     "text": [
      "Test Loss (MSE): 51.294795989990234\n",
      "Test MAE: 6.531081676483154\n"
     ]
    }
   ],
   "source": [
    "test_loss, test_mae =model.evaluate(x_test, y_test, verbose=0)\n",
    "print(f\"Test Loss (MSE): {test_loss}\")\n",
    "print(f\"Test MAE: {test_mae}\")"
   ]
  },
  {
   "cell_type": "markdown",
   "id": "baf6653e-1fae-415a-b20d-163b29febbd9",
   "metadata": {},
   "source": [
    "Predict groundwater levels for the test set"
   ]
  },
  {
   "cell_type": "code",
   "execution_count": 69,
   "id": "ec42bb46-a81a-48b8-a394-0a45309c1aae",
   "metadata": {},
   "outputs": [
    {
     "name": "stdout",
     "output_type": "stream",
     "text": [
      "\u001b[1m1/1\u001b[0m \u001b[32m━━━━━━━━━━━━━━━━━━━━\u001b[0m\u001b[37m\u001b[0m \u001b[1m0s\u001b[0m 69ms/step\n"
     ]
    }
   ],
   "source": [
    "y_pred =model.predict(x_test)"
   ]
  },
  {
   "cell_type": "code",
   "execution_count": 70,
   "id": "024a9a8e-b313-40cf-91fc-bf4e5cf938de",
   "metadata": {},
   "outputs": [
    {
     "name": "stdout",
     "output_type": "stream",
     "text": [
      "   Actual  Predicted\n",
      "8       9   5.408267\n",
      "1      12   2.529570\n"
     ]
    }
   ],
   "source": [
    "#Compare predictions with actual values\n",
    "results =pd.DataFrame({\"Actual\": y_test, \"Predicted\": y_pred.flatten()})\n",
    "print(results)"
   ]
  },
  {
   "cell_type": "markdown",
   "id": "f2f1ecc2-6d60-4f0a-8f56-bdadc2d33410",
   "metadata": {},
   "source": [
    "Visualize Training Progress\n",
    "#Plot training and validation loss"
   ]
  },
  {
   "cell_type": "code",
   "execution_count": 71,
   "id": "cae1c70b-d88f-4f95-8cd5-81b205c1bdff",
   "metadata": {},
   "outputs": [
    {
     "data": {
      "image/png": "[encoded data removed]",
      "text/plain": [
       "<Figure size 640x480 with 1 Axes>"
      ]
     },
     "metadata": {},
     "output_type": "display_data"
    }
   ],
   "source": [
    "import matplotlib.pyplot as plt\n",
    "plt.plot(history.history['loss'], label='Training Loss')\n",
    "plt.plot(history.history['val_loss'], label='Validation Loss')\n",
    "plt.title('Training and Validation Loss')\n",
    "plt.xlabel('Epochs')\n",
    "plt.ylabel('Loss (MSE)')\n",
    "plt.legend()\n",
    "plt.show()"
   ]
  },
  {
   "cell_type": "markdown",
   "id": "f02e20dc-6e04-424c-a095-dd805f973511",
   "metadata": {},
   "source": [
    "Visualize Predictions"
   ]
  },
  {
   "cell_type": "code",
   "execution_count": 72,
   "id": "55e39562-3243-48ec-9942-d9098cf27b75",
   "metadata": {},
   "outputs": [
    {
     "data": {
      "image/png": "[encoded data removed]",
      "text/plain": [
       "<Figure size 640x480 with 1 Axes>"
      ]
     },
     "metadata": {},
     "output_type": "display_data"
    }
   ],
   "source": [
    "# Plot actual vs. predicted values\n",
    "plt.scatter(y_test, y_pred, alpha=0.5)\n",
    "plt.plot([y_test.min(), y_test.max()], [y_test.min(), y_test.max()], 'r--')  # Diagonal line\n",
    "plt.title('Actual vs. Predicted Groundwater Levels')\n",
    "plt.xlabel('Actual Groundwater Level (m)')\n",
    "plt.ylabel('Predicted Groundwater Level (m)')\n",
    "plt.show()"
   ]
  },
  {
   "cell_type": "code",
   "execution_count": 78,
   "id": "0339bb23-12d8-41aa-84ae-0bd6c47edb80",
   "metadata": {},
   "outputs": [],
   "source": [
    "model.save(\"groundwater_ann_model.keras\")"
   ]
  }
 ],
 "metadata": {
  "kernelspec": {
   "display_name": "Python 3 (ipykernel)",
   "language": "python",
   "name": "python3"
  },
  "language_info": {
   "codemirror_mode": {
    "name": "ipython",
    "version": 3
   },
   "file_extension": ".py",
   "mimetype": "text/x-python",
   "name": "python",
   "nbconvert_exporter": "python",
   "pygments_lexer": "ipython3",
   "version": "3.12.8"
  }
 },
 "nbformat": 4,
 "nbformat_minor": 5
}
